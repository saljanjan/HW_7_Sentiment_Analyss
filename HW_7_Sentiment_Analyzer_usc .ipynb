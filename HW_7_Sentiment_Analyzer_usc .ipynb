{
 "cells": [
  {
   "cell_type": "code",
   "execution_count": 1,
   "metadata": {},
   "outputs": [
    {
     "ename": "ModuleNotFoundError",
     "evalue": "No module named 'vaderSentiment'",
     "output_type": "error",
     "traceback": [
      "\u001b[1;31m---------------------------------------------------------------------------\u001b[0m",
      "\u001b[1;31mModuleNotFoundError\u001b[0m                       Traceback (most recent call last)",
      "\u001b[1;32m<ipython-input-1-19d984052394>\u001b[0m in \u001b[0;36m<module>\u001b[1;34m()\u001b[0m\n\u001b[0;32m      8\u001b[0m \u001b[1;33m\u001b[0m\u001b[0m\n\u001b[0;32m      9\u001b[0m \u001b[1;31m#import and initialize analyzer\u001b[0m\u001b[1;33m\u001b[0m\u001b[1;33m\u001b[0m\u001b[0m\n\u001b[1;32m---> 10\u001b[1;33m \u001b[1;32mfrom\u001b[0m \u001b[0mvaderSentiment\u001b[0m\u001b[1;33m.\u001b[0m\u001b[0mvaderSentiment\u001b[0m \u001b[1;32mimport\u001b[0m \u001b[0mSentimentIntensityAnalyzer\u001b[0m\u001b[1;33m\u001b[0m\u001b[0m\n\u001b[0m\u001b[0;32m     11\u001b[0m \u001b[0manalyzer\u001b[0m \u001b[1;33m=\u001b[0m \u001b[0mSentimentIntensityAnalyzer\u001b[0m\u001b[1;33m(\u001b[0m\u001b[1;33m)\u001b[0m\u001b[1;33m\u001b[0m\u001b[0m\n\u001b[0;32m     12\u001b[0m \u001b[1;33m\u001b[0m\u001b[0m\n",
      "\u001b[1;31mModuleNotFoundError\u001b[0m: No module named 'vaderSentiment'"
     ]
    }
   ],
   "source": [
    "#import dependencies\n",
    "import tweepy \n",
    "import json\n",
    "import numpy \n",
    "import pandas as pd #For Compound Scores DataFrame \n",
    "import matplotlib.pyplot as plt #For Plotting Compound scores and visualize data\n",
    "import seaborn as sn #For visualizing data\n",
    "\n",
    "#import and initialize analyzer\n",
    "from vaderSentiment.vaderSentiment import SentimentIntensityAnalyzer\n",
    "analyzer = SentimentIntensityAnalyzer()\n",
    "\n",
    "#Twitter API authentication keys\n",
    "consumer_key = \"Ed4RNulN1lp7AbOooHa9STCoU\"\n",
    "consumer_secret = \"P7cUJlmJZq0VaCY0Jg7COliwQqzK0qYEyUF9Y0idx4ujb3ZlW5\"\n",
    "access_token = \"839621358724198402-dzdOsx2WWHrSuBwyNUiqSEnTivHozAZ\"\n",
    "access_token_secret = \"dCZ80uNRbFDjxdU2EckmNiSckdoATach6Q8zb7YYYE5ER\"\n",
    "\n",
    "# Setup Tweepy API Authentication\n",
    "auth = tweepy.OAuthHandler(consumer_key, consumer_secret)\n",
    "auth.set_access_token(access_token, access_token_secret)\n",
    "api = tweepy.API(auth, parser=tweepy.parsers.JSONParser())\n",
    "\n",
    "#Target Search Terms\n",
    "target_term = ['@CNNbrk', '@BBC', '@nytimes', '@fox']\n",
    "\n",
    "#Function to add scores to DataFrame\n",
    "def addScores(name):\n",
    "    \n",
    "    tweet_scores = pd.DataFrame({'Tweet': [] , 'Timestamp': [], 'Compound_Scores':[] ,\n",
    "                                 'Positive_Scores': [] , 'Negative_Scores': [],\n",
    "                                 'Neutral_Scores': [] }, \n",
    "                                columns = ['Tweet', 'Timestamp','Compound_Scores',\n",
    "                                           'Positive_Scores','Negative_Scores','Neutral_Scores'])\n",
    "    \n",
    "    \n",
    "    #Grab 100 tweets with API\n",
    "    public_tweets = api.search(name, count = 100, result_type = 'recent')\n",
    "    \n",
    "    #Loop to iterate through all public_tweets\n",
    "    \n",
    "    for tweet in public_tweets['statuses']:\n",
    "        \n",
    "        compound = analyzer.polarity_scores(tweet[\"text\"])[\"compound\"]\n",
    "        negative = analyzer.polarity_scores(tweet[\"text\"])[\"neg\"]\n",
    "        positive = analyzer.polarity_scores(tweet[\"text\"])[\"pos\"]\n",
    "        neutral = analyzer.polarity_scores(tweet[\"text\"])[\"neu\"]\n",
    "        text = tweet[\"text\"]\n",
    "        timestamp = tweet['user'][\"created_at\"]\n",
    "        \n",
    "\n",
    "        \n",
    "        tweet_scores = tweet_scores.append({'Tweet': text , 'Timestamp': timestamp,\n",
    "                                       'Compound_Scores': compound ,'Positive_Scores': positive ,\n",
    "                                       'Negative_Scores': negative,\n",
    "                                       'Neutral_Scores': neutral}, ignore_index = True )\n",
    "    return tweet_scores\n",
    "Global_tweet_scores = addScores(target_term[0])\n",
    "Global_tweet_scores\n",
    "#addScores(target_term[1])\n",
    "#addScores(target_term[2])\n",
    "#addScores(target_term[3])\n"
   ]
  },
  {
   "cell_type": "code",
   "execution_count": null,
   "metadata": {
    "collapsed": true
   },
   "outputs": [],
   "source": []
  }
 ],
 "metadata": {
  "kernelspec": {
   "display_name": "Python 3",
   "language": "python",
   "name": "python3"
  },
  "language_info": {
   "codemirror_mode": {
    "name": "ipython",
    "version": 3
   },
   "file_extension": ".py",
   "mimetype": "text/x-python",
   "name": "python",
   "nbconvert_exporter": "python",
   "pygments_lexer": "ipython3",
   "version": "3.6.1"
  }
 },
 "nbformat": 4,
 "nbformat_minor": 2
}
